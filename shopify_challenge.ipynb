{
  "nbformat": 4,
  "nbformat_minor": 0,
  "metadata": {
    "colab": {
      "name": "shopify_challenge.ipynb",
      "provenance": []
    },
    "kernelspec": {
      "name": "python3",
      "display_name": "Python 3"
    },
    "language_info": {
      "name": "python"
    }
  },
  "cells": [
    {
      "cell_type": "markdown",
      "source": [
        "PART 1: Python, Pandas"
      ],
      "metadata": {
        "id": "411Re0heVSVU"
      }
    },
    {
      "cell_type": "code",
      "execution_count": 1,
      "metadata": {
        "id": "m2RkpOKnQHwy"
      },
      "outputs": [],
      "source": [
        "import numpy as np\n",
        "import pandas as pd"
      ]
    },
    {
      "cell_type": "code",
      "source": [
        "df = pd.read_csv(\"challenge_data.csv\")\n",
        "df"
      ],
      "metadata": {
        "colab": {
          "base_uri": "https://localhost:8080/",
          "height": 424
        },
        "id": "svDoQ62-QKnd",
        "outputId": "a669762e-e617-4eba-dde7-a35a8bc99ffa"
      },
      "execution_count": 2,
      "outputs": [
        {
          "output_type": "execute_result",
          "data": {
            "text/plain": [
              "      order_id  shop_id  user_id  order_amount  total_items payment_method  \\\n",
              "0            1       53      746           224            2           cash   \n",
              "1            2       92      925            90            1           cash   \n",
              "2            3       44      861           144            1           cash   \n",
              "3            4       18      935           156            1    credit_card   \n",
              "4            5       18      883           156            1    credit_card   \n",
              "...        ...      ...      ...           ...          ...            ...   \n",
              "4995      4996       73      993           330            2          debit   \n",
              "4996      4997       48      789           234            2           cash   \n",
              "4997      4998       56      867           351            3           cash   \n",
              "4998      4999       60      825           354            2    credit_card   \n",
              "4999      5000       44      734           288            2          debit   \n",
              "\n",
              "               created_at  \n",
              "0     2017-03-13 12:36:56  \n",
              "1     2017-03-03 17:38:52  \n",
              "2      2017-03-14 4:23:56  \n",
              "3     2017-03-26 12:43:37  \n",
              "4      2017-03-01 4:35:11  \n",
              "...                   ...  \n",
              "4995  2017-03-30 13:47:17  \n",
              "4996  2017-03-16 20:36:16  \n",
              "4997   2017-03-19 5:42:42  \n",
              "4998  2017-03-16 14:51:18  \n",
              "4999  2017-03-18 15:48:18  \n",
              "\n",
              "[5000 rows x 7 columns]"
            ],
            "text/html": [
              "\n",
              "  <div id=\"df-99b2e114-2d02-4e83-846e-aea0d896643c\">\n",
              "    <div class=\"colab-df-container\">\n",
              "      <div>\n",
              "<style scoped>\n",
              "    .dataframe tbody tr th:only-of-type {\n",
              "        vertical-align: middle;\n",
              "    }\n",
              "\n",
              "    .dataframe tbody tr th {\n",
              "        vertical-align: top;\n",
              "    }\n",
              "\n",
              "    .dataframe thead th {\n",
              "        text-align: right;\n",
              "    }\n",
              "</style>\n",
              "<table border=\"1\" class=\"dataframe\">\n",
              "  <thead>\n",
              "    <tr style=\"text-align: right;\">\n",
              "      <th></th>\n",
              "      <th>order_id</th>\n",
              "      <th>shop_id</th>\n",
              "      <th>user_id</th>\n",
              "      <th>order_amount</th>\n",
              "      <th>total_items</th>\n",
              "      <th>payment_method</th>\n",
              "      <th>created_at</th>\n",
              "    </tr>\n",
              "  </thead>\n",
              "  <tbody>\n",
              "    <tr>\n",
              "      <th>0</th>\n",
              "      <td>1</td>\n",
              "      <td>53</td>\n",
              "      <td>746</td>\n",
              "      <td>224</td>\n",
              "      <td>2</td>\n",
              "      <td>cash</td>\n",
              "      <td>2017-03-13 12:36:56</td>\n",
              "    </tr>\n",
              "    <tr>\n",
              "      <th>1</th>\n",
              "      <td>2</td>\n",
              "      <td>92</td>\n",
              "      <td>925</td>\n",
              "      <td>90</td>\n",
              "      <td>1</td>\n",
              "      <td>cash</td>\n",
              "      <td>2017-03-03 17:38:52</td>\n",
              "    </tr>\n",
              "    <tr>\n",
              "      <th>2</th>\n",
              "      <td>3</td>\n",
              "      <td>44</td>\n",
              "      <td>861</td>\n",
              "      <td>144</td>\n",
              "      <td>1</td>\n",
              "      <td>cash</td>\n",
              "      <td>2017-03-14 4:23:56</td>\n",
              "    </tr>\n",
              "    <tr>\n",
              "      <th>3</th>\n",
              "      <td>4</td>\n",
              "      <td>18</td>\n",
              "      <td>935</td>\n",
              "      <td>156</td>\n",
              "      <td>1</td>\n",
              "      <td>credit_card</td>\n",
              "      <td>2017-03-26 12:43:37</td>\n",
              "    </tr>\n",
              "    <tr>\n",
              "      <th>4</th>\n",
              "      <td>5</td>\n",
              "      <td>18</td>\n",
              "      <td>883</td>\n",
              "      <td>156</td>\n",
              "      <td>1</td>\n",
              "      <td>credit_card</td>\n",
              "      <td>2017-03-01 4:35:11</td>\n",
              "    </tr>\n",
              "    <tr>\n",
              "      <th>...</th>\n",
              "      <td>...</td>\n",
              "      <td>...</td>\n",
              "      <td>...</td>\n",
              "      <td>...</td>\n",
              "      <td>...</td>\n",
              "      <td>...</td>\n",
              "      <td>...</td>\n",
              "    </tr>\n",
              "    <tr>\n",
              "      <th>4995</th>\n",
              "      <td>4996</td>\n",
              "      <td>73</td>\n",
              "      <td>993</td>\n",
              "      <td>330</td>\n",
              "      <td>2</td>\n",
              "      <td>debit</td>\n",
              "      <td>2017-03-30 13:47:17</td>\n",
              "    </tr>\n",
              "    <tr>\n",
              "      <th>4996</th>\n",
              "      <td>4997</td>\n",
              "      <td>48</td>\n",
              "      <td>789</td>\n",
              "      <td>234</td>\n",
              "      <td>2</td>\n",
              "      <td>cash</td>\n",
              "      <td>2017-03-16 20:36:16</td>\n",
              "    </tr>\n",
              "    <tr>\n",
              "      <th>4997</th>\n",
              "      <td>4998</td>\n",
              "      <td>56</td>\n",
              "      <td>867</td>\n",
              "      <td>351</td>\n",
              "      <td>3</td>\n",
              "      <td>cash</td>\n",
              "      <td>2017-03-19 5:42:42</td>\n",
              "    </tr>\n",
              "    <tr>\n",
              "      <th>4998</th>\n",
              "      <td>4999</td>\n",
              "      <td>60</td>\n",
              "      <td>825</td>\n",
              "      <td>354</td>\n",
              "      <td>2</td>\n",
              "      <td>credit_card</td>\n",
              "      <td>2017-03-16 14:51:18</td>\n",
              "    </tr>\n",
              "    <tr>\n",
              "      <th>4999</th>\n",
              "      <td>5000</td>\n",
              "      <td>44</td>\n",
              "      <td>734</td>\n",
              "      <td>288</td>\n",
              "      <td>2</td>\n",
              "      <td>debit</td>\n",
              "      <td>2017-03-18 15:48:18</td>\n",
              "    </tr>\n",
              "  </tbody>\n",
              "</table>\n",
              "<p>5000 rows × 7 columns</p>\n",
              "</div>\n",
              "      <button class=\"colab-df-convert\" onclick=\"convertToInteractive('df-99b2e114-2d02-4e83-846e-aea0d896643c')\"\n",
              "              title=\"Convert this dataframe to an interactive table.\"\n",
              "              style=\"display:none;\">\n",
              "        \n",
              "  <svg xmlns=\"http://www.w3.org/2000/svg\" height=\"24px\"viewBox=\"0 0 24 24\"\n",
              "       width=\"24px\">\n",
              "    <path d=\"M0 0h24v24H0V0z\" fill=\"none\"/>\n",
              "    <path d=\"M18.56 5.44l.94 2.06.94-2.06 2.06-.94-2.06-.94-.94-2.06-.94 2.06-2.06.94zm-11 1L8.5 8.5l.94-2.06 2.06-.94-2.06-.94L8.5 2.5l-.94 2.06-2.06.94zm10 10l.94 2.06.94-2.06 2.06-.94-2.06-.94-.94-2.06-.94 2.06-2.06.94z\"/><path d=\"M17.41 7.96l-1.37-1.37c-.4-.4-.92-.59-1.43-.59-.52 0-1.04.2-1.43.59L10.3 9.45l-7.72 7.72c-.78.78-.78 2.05 0 2.83L4 21.41c.39.39.9.59 1.41.59.51 0 1.02-.2 1.41-.59l7.78-7.78 2.81-2.81c.8-.78.8-2.07 0-2.86zM5.41 20L4 18.59l7.72-7.72 1.47 1.35L5.41 20z\"/>\n",
              "  </svg>\n",
              "      </button>\n",
              "      \n",
              "  <style>\n",
              "    .colab-df-container {\n",
              "      display:flex;\n",
              "      flex-wrap:wrap;\n",
              "      gap: 12px;\n",
              "    }\n",
              "\n",
              "    .colab-df-convert {\n",
              "      background-color: #E8F0FE;\n",
              "      border: none;\n",
              "      border-radius: 50%;\n",
              "      cursor: pointer;\n",
              "      display: none;\n",
              "      fill: #1967D2;\n",
              "      height: 32px;\n",
              "      padding: 0 0 0 0;\n",
              "      width: 32px;\n",
              "    }\n",
              "\n",
              "    .colab-df-convert:hover {\n",
              "      background-color: #E2EBFA;\n",
              "      box-shadow: 0px 1px 2px rgba(60, 64, 67, 0.3), 0px 1px 3px 1px rgba(60, 64, 67, 0.15);\n",
              "      fill: #174EA6;\n",
              "    }\n",
              "\n",
              "    [theme=dark] .colab-df-convert {\n",
              "      background-color: #3B4455;\n",
              "      fill: #D2E3FC;\n",
              "    }\n",
              "\n",
              "    [theme=dark] .colab-df-convert:hover {\n",
              "      background-color: #434B5C;\n",
              "      box-shadow: 0px 1px 3px 1px rgba(0, 0, 0, 0.15);\n",
              "      filter: drop-shadow(0px 1px 2px rgba(0, 0, 0, 0.3));\n",
              "      fill: #FFFFFF;\n",
              "    }\n",
              "  </style>\n",
              "\n",
              "      <script>\n",
              "        const buttonEl =\n",
              "          document.querySelector('#df-99b2e114-2d02-4e83-846e-aea0d896643c button.colab-df-convert');\n",
              "        buttonEl.style.display =\n",
              "          google.colab.kernel.accessAllowed ? 'block' : 'none';\n",
              "\n",
              "        async function convertToInteractive(key) {\n",
              "          const element = document.querySelector('#df-99b2e114-2d02-4e83-846e-aea0d896643c');\n",
              "          const dataTable =\n",
              "            await google.colab.kernel.invokeFunction('convertToInteractive',\n",
              "                                                     [key], {});\n",
              "          if (!dataTable) return;\n",
              "\n",
              "          const docLinkHtml = 'Like what you see? Visit the ' +\n",
              "            '<a target=\"_blank\" href=https://colab.research.google.com/notebooks/data_table.ipynb>data table notebook</a>'\n",
              "            + ' to learn more about interactive tables.';\n",
              "          element.innerHTML = '';\n",
              "          dataTable['output_type'] = 'display_data';\n",
              "          await google.colab.output.renderOutput(dataTable, element);\n",
              "          const docLink = document.createElement('div');\n",
              "          docLink.innerHTML = docLinkHtml;\n",
              "          element.appendChild(docLink);\n",
              "        }\n",
              "      </script>\n",
              "    </div>\n",
              "  </div>\n",
              "  "
            ]
          },
          "metadata": {},
          "execution_count": 2
        }
      ]
    },
    {
      "cell_type": "markdown",
      "source": [
        "On Shopify, we have exactly 100 sneaker shops, and each of these shops sells only one model of shoe. We want to do some analysis of the average order value (AOV). When we look at orders data over a 30 day window, we naively calculate an AOV of $3145.13. Given that we know these shops are selling sneakers, a relatively affordable item, something seems wrong with our analysis. \n"
      ],
      "metadata": {
        "id": "gbx5NkHDQbni"
      }
    },
    {
      "cell_type": "markdown",
      "source": [
        "a) Think about what could be going wrong with our calculation. Think about a better way to evaluate this data. "
      ],
      "metadata": {
        "id": "x7llp_C2QoKH"
      }
    },
    {
      "cell_type": "code",
      "source": [
        "print(\"Number of orders: \", len(np.unique(df['order_id'])))\n",
        "# each row in the table is a unique order, so we can look closer at the spread of order_amount"
      ],
      "metadata": {
        "colab": {
          "base_uri": "https://localhost:8080/"
        },
        "id": "-MB540cvQyF5",
        "outputId": "bde96a26-c055-4b13-88f0-a5ea1a30940c"
      },
      "execution_count": 22,
      "outputs": [
        {
          "output_type": "stream",
          "name": "stdout",
          "text": [
            "Number of orders:  5000\n"
          ]
        }
      ]
    },
    {
      "cell_type": "code",
      "source": [
        "print(\"Summary statistics of order_amount: \", df['order_amount'].describe())\n",
        "# there is a huge standard deviation, which is due to the incredibly high value of the maximum. \n",
        "# Let's see where this maximum occurs"
      ],
      "metadata": {
        "colab": {
          "base_uri": "https://localhost:8080/"
        },
        "id": "LzM1uiXrS8Ji",
        "outputId": "9e6e517c-4ebe-4f6c-844d-df9a193fa466"
      },
      "execution_count": 27,
      "outputs": [
        {
          "output_type": "stream",
          "name": "stdout",
          "text": [
            "Summary statistics of order_amount:  count      5000.000000\n",
            "mean       3145.128000\n",
            "std       41282.539349\n",
            "min          90.000000\n",
            "25%         163.000000\n",
            "50%         284.000000\n",
            "75%         390.000000\n",
            "max      704000.000000\n",
            "Name: order_amount, dtype: float64\n"
          ]
        }
      ]
    },
    {
      "cell_type": "code",
      "source": [
        "print(df[df['order_amount'] == 704000])\n",
        "# It looks like a single user ordered a large number of items many times, which could either be \n",
        "# a financial mistake with the transaction or it could just be strange behavior of one user (less likely)\n",
        "# It would be interesting to see the spread of amounts without this high value."
      ],
      "metadata": {
        "colab": {
          "base_uri": "https://localhost:8080/"
        },
        "id": "IP_3gk-KS-v4",
        "outputId": "a76fe663-9188-40f6-fa73-789f19ea0175"
      },
      "execution_count": 26,
      "outputs": [
        {
          "output_type": "stream",
          "name": "stdout",
          "text": [
            "      order_id  shop_id  user_id  order_amount  total_items payment_method  \\\n",
            "15          16       42      607        704000         2000    credit_card   \n",
            "60          61       42      607        704000         2000    credit_card   \n",
            "520        521       42      607        704000         2000    credit_card   \n",
            "1104      1105       42      607        704000         2000    credit_card   \n",
            "1362      1363       42      607        704000         2000    credit_card   \n",
            "1436      1437       42      607        704000         2000    credit_card   \n",
            "1562      1563       42      607        704000         2000    credit_card   \n",
            "1602      1603       42      607        704000         2000    credit_card   \n",
            "2153      2154       42      607        704000         2000    credit_card   \n",
            "2297      2298       42      607        704000         2000    credit_card   \n",
            "2835      2836       42      607        704000         2000    credit_card   \n",
            "2969      2970       42      607        704000         2000    credit_card   \n",
            "3332      3333       42      607        704000         2000    credit_card   \n",
            "4056      4057       42      607        704000         2000    credit_card   \n",
            "4646      4647       42      607        704000         2000    credit_card   \n",
            "4868      4869       42      607        704000         2000    credit_card   \n",
            "4882      4883       42      607        704000         2000    credit_card   \n",
            "\n",
            "              created_at  \n",
            "15    2017-03-07 4:00:00  \n",
            "60    2017-03-04 4:00:00  \n",
            "520   2017-03-02 4:00:00  \n",
            "1104  2017-03-24 4:00:00  \n",
            "1362  2017-03-15 4:00:00  \n",
            "1436  2017-03-11 4:00:00  \n",
            "1562  2017-03-19 4:00:00  \n",
            "1602  2017-03-17 4:00:00  \n",
            "2153  2017-03-12 4:00:00  \n",
            "2297  2017-03-07 4:00:00  \n",
            "2835  2017-03-28 4:00:00  \n",
            "2969  2017-03-28 4:00:00  \n",
            "3332  2017-03-24 4:00:00  \n",
            "4056  2017-03-28 4:00:00  \n",
            "4646  2017-03-02 4:00:00  \n",
            "4868  2017-03-22 4:00:00  \n",
            "4882  2017-03-25 4:00:00  \n"
          ]
        }
      ]
    },
    {
      "cell_type": "code",
      "source": [
        "print(df[df['order_amount'] != 704000]['order_amount'].sort_values(ascending=False))\n",
        "# It looks like there are still some large spenders, since the next highest values are also above 100k. \n",
        "# One more thing we can do is look at the spread"
      ],
      "metadata": {
        "colab": {
          "base_uri": "https://localhost:8080/"
        },
        "id": "8XiGRlqMTBTE",
        "outputId": "19a64685-6c7b-494c-8f18-dd4b63a810bd"
      },
      "execution_count": 28,
      "outputs": [
        {
          "output_type": "stream",
          "name": "stdout",
          "text": [
            "691     154350\n",
            "2492    102900\n",
            "3724     77175\n",
            "1259     77175\n",
            "4420     77175\n",
            "         ...  \n",
            "3871        90\n",
            "3363        90\n",
            "4923        90\n",
            "158         90\n",
            "2503        90\n",
            "Name: order_amount, Length: 4983, dtype: int64\n"
          ]
        }
      ]
    },
    {
      "cell_type": "code",
      "source": [
        "print(\"With the extreme outlier: \")\n",
        "df['order_amount'].hist()\n",
        "# extremely skewed right"
      ],
      "metadata": {
        "colab": {
          "base_uri": "https://localhost:8080/",
          "height": 301
        },
        "id": "Po3A08BhTGVe",
        "outputId": "bd44dc5e-13c1-4e38-946f-1448d32577f8"
      },
      "execution_count": 33,
      "outputs": [
        {
          "output_type": "stream",
          "name": "stdout",
          "text": [
            "With the extreme outlier: \n"
          ]
        },
        {
          "output_type": "execute_result",
          "data": {
            "text/plain": [
              "<matplotlib.axes._subplots.AxesSubplot at 0x7f0463b78dd0>"
            ]
          },
          "metadata": {},
          "execution_count": 33
        },
        {
          "output_type": "display_data",
          "data": {
            "text/plain": [
              "<Figure size 432x288 with 1 Axes>"
            ],
            "image/png": "[encoded data removed]"
          },
          "metadata": {
            "needs_background": "light"
          }
        }
      ]
    },
    {
      "cell_type": "code",
      "source": [
        "print(\"Without the extreme outlier: \")\n",
        "df[df['order_amount'] < 704000]['order_amount'].hist()\n",
        "# Still extremely skewed right. Let's remove outliers and try again."
      ],
      "metadata": {
        "colab": {
          "base_uri": "https://localhost:8080/",
          "height": 301
        },
        "id": "jtXqkdRqTwQ5",
        "outputId": "7d1fcee2-b4de-45d7-c0fe-8b61575e4daa"
      },
      "execution_count": 34,
      "outputs": [
        {
          "output_type": "stream",
          "name": "stdout",
          "text": [
            "Without the extreme outlier: \n"
          ]
        },
        {
          "output_type": "execute_result",
          "data": {
            "text/plain": [
              "<matplotlib.axes._subplots.AxesSubplot at 0x7f0463a75310>"
            ]
          },
          "metadata": {},
          "execution_count": 34
        },
        {
          "output_type": "display_data",
          "data": {
            "text/plain": [
              "<Figure size 432x288 with 1 Axes>"
            ],
            "image/png": "[encoded data removed]"
          },
          "metadata": {
            "needs_background": "light"
          }
        }
      ]
    },
    {
      "cell_type": "code",
      "source": [
        "from scipy import stats\n",
        "df[(np.abs(stats.zscore(df['order_amount'])) < 3)]['order_amount'].hist()\n",
        "# Still very skewed, but getting better"
      ],
      "metadata": {
        "colab": {
          "base_uri": "https://localhost:8080/",
          "height": 283
        },
        "id": "8UqhAObpUAs2",
        "outputId": "93c8fcff-0956-48de-eb98-50c32fb1dea2"
      },
      "execution_count": 44,
      "outputs": [
        {
          "output_type": "execute_result",
          "data": {
            "text/plain": [
              "<matplotlib.axes._subplots.AxesSubplot at 0x7f04544ba090>"
            ]
          },
          "metadata": {},
          "execution_count": 44
        },
        {
          "output_type": "display_data",
          "data": {
            "text/plain": [
              "<Figure size 432x288 with 1 Axes>"
            ],
            "image/png": "[encoded data removed]"
          },
          "metadata": {
            "needs_background": "light"
          }
        }
      ]
    },
    {
      "cell_type": "markdown",
      "source": [
        "b) What metric would you report for this dataset?"
      ],
      "metadata": {
        "id": "0BDNM2IuQuG7"
      }
    },
    {
      "cell_type": "code",
      "source": [
        "# Since it has been challenging to improve the skew of the mean due to extreme values, we can\n",
        "# turn to another metric to represent the data: the median."
      ],
      "metadata": {
        "id": "PRsDplpgUhbJ"
      },
      "execution_count": 47,
      "outputs": []
    },
    {
      "cell_type": "markdown",
      "source": [
        "c) What is its value?"
      ],
      "metadata": {
        "id": "EKoQAhGyQvdr"
      }
    },
    {
      "cell_type": "code",
      "source": [
        "print(\"Median order amount: \", np.median(df['order_amount']))\n",
        "# This value is much more reasonable and realistic, so we should report the median.|"
      ],
      "metadata": {
        "colab": {
          "base_uri": "https://localhost:8080/"
        },
        "id": "-fWEXyuXQXRk",
        "outputId": "e53435e7-5fbc-423c-cbd8-6a8ca6ca6ba1"
      },
      "execution_count": 48,
      "outputs": [
        {
          "output_type": "stream",
          "name": "stdout",
          "text": [
            "Median order amount:  284.0\n"
          ]
        }
      ]
    },
    {
      "cell_type": "markdown",
      "source": [
        "--------"
      ],
      "metadata": {
        "id": "GAMSDNjtVOHf"
      }
    },
    {
      "cell_type": "markdown",
      "source": [
        "PART 2: SQL"
      ],
      "metadata": {
        "id": "cLVntR6RVPWU"
      }
    },
    {
      "cell_type": "markdown",
      "source": [
        "1)"
      ],
      "metadata": {
        "id": "RQm9tt8LWOAI"
      }
    },
    {
      "cell_type": "markdown",
      "source": [
        "54 orders\n",
        "\n",
        "\n",
        "SELECT COUNT(*) FROM Orders as O JOIN Shippers as S on O.ShipperID = S.ShipperID WHERE S.ShipperName = \"Speedy Express\";"
      ],
      "metadata": {
        "id": "3I3ndkzzWH-U"
      }
    },
    {
      "cell_type": "markdown",
      "source": [
        "2)"
      ],
      "metadata": {
        "id": "7XsNSFxaWP3J"
      }
    },
    {
      "cell_type": "markdown",
      "source": [
        "Peacock"
      ],
      "metadata": {
        "id": "tZoEaEsJWRT8"
      }
    },
    {
      "cell_type": "markdown",
      "source": [
        "SELECT E.LastName FROM Orders as O INNER JOIN Employees as E ON O.EmployeeID = E.EmployeeID GROUP BY E.LastName ORDER BY COUNT(O.OrderID) DESC LIMIT 1;"
      ],
      "metadata": {
        "id": "5xlDLp-iXBIS"
      }
    },
    {
      "cell_type": "markdown",
      "source": [
        "3)"
      ],
      "metadata": {
        "id": "h8j2GDY9XCUY"
      }
    },
    {
      "cell_type": "markdown",
      "source": [
        "Gorgonzola Telino"
      ],
      "metadata": {
        "id": "W6nW1IptXDXg"
      }
    },
    {
      "cell_type": "markdown",
      "source": [
        "SELECT P.ProductName FROM Orders as O INNER JOIN Customers as C ON O.CustomerID = C.CustomerID \n",
        "INNER JOIN OrderDetails as OD ON O.OrderID = OD.OrderID \n",
        "INNER JOIN Products as P ON OD.ProductID = P.ProductID \n",
        "WHERE C.Country = 'Germany' \n",
        "GROUP BY P.ProductName \n",
        "ORDER BY COUNT(P.ProductName) DESC LIMIT 1;"
      ],
      "metadata": {
        "id": "AhhxUw7nXaN0"
      }
    }
  ]
}